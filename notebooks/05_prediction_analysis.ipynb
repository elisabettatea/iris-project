{
 "cells": [
  {
   "cell_type": "code",
   "execution_count": null,
   "id": "7c57d169-6199-403f-b343-4b4b00652381",
   "metadata": {},
   "outputs": [],
   "source": [
    "# Load necessary libraries\n",
    "library(pROC)\n",
    "library(PRROC)\n",
    "library(tidyverse)"
   ]
  },
  {
   "cell_type": "code",
   "execution_count": null,
   "id": "129480c1-c057-4466-99d0-c47bbe0da447",
   "metadata": {},
   "outputs": [],
   "source": [
    "# Load the dataset from the data folder\n",
    "setwd(\"../data\")\n",
    "iris.data <- read.csv(\"iris.data.txt\", header = TRUE)"
   ]
  },
  {
   "cell_type": "code",
   "execution_count": null,
   "id": "92ece831-fd74-4b55-bbf3-a22215a100fd",
   "metadata": {},
   "outputs": [],
   "source": [
    "# Filter out the \"Iris-setosa\" class to create a binary classification problem\n",
    "iris.datalog <- iris.data[iris.data$class != \"Iris-setosa\", ]"
   ]
  },
  {
   "cell_type": "code",
   "execution_count": null,
   "id": "5580a122-02a4-4d0b-8420-6d85f8b03763",
   "metadata": {},
   "outputs": [],
   "source": [
    "# Transform the 'class' variable into a binary variable\n",
    "# 1 for \"Iris-versicolor\", 0 for other classes\n",
    "iris.datalog$class_binaria <- ifelse(iris.datalog$class == \"Iris-versicolor\", 1, 0)"
   ]
  },
  {
   "cell_type": "code",
   "execution_count": null,
   "id": "363746be-ecc8-4966-89ed-b6490412a136",
   "metadata": {},
   "outputs": [],
   "source": [
    "# Rename variables for clarity\n",
    "names(iris.datalog)[names(iris.datalog) == \"sepalenght\"] <- \"sl\"\n",
    "names(iris.datalog)[names(iris.datalog) == \"petalenght\"] <- \"pl\"\n",
    "names(iris.datalog)[names(iris.datalog) == \"sepalwidth\"] <- \"sw\"\n",
    "names(iris.datalog)[names(iris.datalog) == \"petalwidth\"] <- \"pw\""
   ]
  },
  {
   "cell_type": "code",
   "execution_count": null,
   "id": "3b1c14f6-f9aa-45a1-9825-03934f959fc2",
   "metadata": {},
   "outputs": [],
   "source": [
    "# Fit a refined logistic regression model with selected predictors\n",
    "model2 <- glm(class_binaria ~ sw + pl + pw, data = iris.datalog, family = \"binomial\")\n",
    "summary(model2)\n",
    "# Results: AIC = 21.266, NULL DEVIANCE = 138.629, RESIDUAL DEVIANCE = 13.266 (improvement)"
   ]
  },
  {
   "cell_type": "code",
   "execution_count": null,
   "id": "1e2723ac-fdd3-4c1b-b5d1-e334f5a50ce4",
   "metadata": {},
   "outputs": [],
   "source": [
    "# After verifying the model, proceed to adjust the classification threshold\n",
    "# Choose a lower threshold to minimize error, as the optimal threshold is unknown\n",
    "\n",
    "threshold = 0.1\n",
    "\n",
    "# Actual values (ground truth)\n",
    "true_values = iris.datalog$class_binaria\n",
    "\n",
    "# Predicted values based on the chosen threshold\n",
    "predicted_values = as.numeric(model2$fitted.values > threshold)  # 1 if > threshold, 0 otherwise\n",
    "\n",
    "# Confusion matrix\n",
    "confusion_matrix = table(true_values, predicted_values)\n",
    "confusion_matrix"
   ]
  },
  {
   "cell_type": "code",
   "execution_count": null,
   "id": "2184bcbf-afb4-471b-ac82-312790a90b6c",
   "metadata": {},
   "outputs": [],
   "source": [
    "# The confusion matrix contains:\n",
    "# - True Positives (TP): 1s classified as 1s\n",
    "# - True Negatives (TN): 0s classified as 0s\n",
    "# - False Positives (FP): 0s classified as 1s\n",
    "# - False Negatives (FN): 1s classified as 0s\n",
    "\n",
    "# Calculate misclassification error to minimize it\n",
    "\n",
    "# Performance metrics:\n",
    "# Accuracy: Percentage of correctly classified cases\n",
    "accuracy = round(sum(diag(confusion_matrix)) / sum(confusion_matrix), 2)\n",
    "accuracy\n",
    "\n",
    "# Misclassification rate: Percentage of incorrectly classified cases\n",
    "misclassification_rate = round((confusion_matrix[1, 2] + confusion_matrix[2, 1]) / sum(confusion_matrix), 2)\n",
    "misclassification_rate\n",
    "\n",
    "# Sensitivity (True Positive Rate)\n",
    "sensitivity = confusion_matrix[2, 2] / (confusion_matrix[2, 1] + confusion_matrix[2, 2])\n",
    "sensitivity\n",
    "\n",
    "# Specificity (True Negative Rate)\n",
    "specificity = confusion_matrix[1, 1] / (confusion_matrix[1, 2] + confusion_matrix[1, 1])\n",
    "specificity\n",
    "\n",
    "# Use the ROC curve to select the best threshold\n",
    "fit2 = model2$fitted.values\n",
    "\n",
    "PRROC_obj <- roc.curve(scores.class0 = fit2, weights.class0 = as.numeric(iris.datalog$class_binaria), curve = TRUE)\n",
    "plot(PRROC_obj)\n",
    "\n",
    "# From the ROC plot, observe that the curve is nearly optimal\n",
    "# The threshold of 0.1 can be kept as it minimizes error"
   ]
  }
 ],
 "metadata": {
  "kernelspec": {
   "display_name": "R",
   "language": "R",
   "name": "ir"
  },
  "language_info": {
   "codemirror_mode": "r",
   "file_extension": ".r",
   "mimetype": "text/x-r-source",
   "name": "R",
   "pygments_lexer": "r",
   "version": "4.4.2"
  }
 },
 "nbformat": 4,
 "nbformat_minor": 5
}
