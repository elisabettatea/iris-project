{
 "cells": [
  {
   "cell_type": "code",
   "execution_count": 4,
   "id": "b9448880-3746-471d-aae8-7da1ad75a40a",
   "metadata": {},
   "outputs": [
    {
     "name": "stderr",
     "output_type": "stream",
     "text": [
      "Warning message in file(file, \"rt\"):\n",
      "“non è possibile aprire il file 'data/iris.data.txt': No such file or directory”\n"
     ]
    },
    {
     "ename": "ERROR",
     "evalue": "Error in file(file, \"rt\"): non è possibile aprire la connessione\n",
     "output_type": "error",
     "traceback": [
      "Error in file(file, \"rt\"): non è possibile aprire la connessione\nTraceback:\n",
      "1. read.table(file = file, header = header, sep = sep, quote = quote, \n .     dec = dec, fill = fill, comment.char = comment.char, ...)",
      "2. file(file, \"rt\")",
      "3. .handleSimpleError(function (cnd) \n . {\n .     watcher$capture_plot_and_output()\n .     cnd <- sanitize_call(cnd)\n .     watcher$push(cnd)\n .     switch(on_error, continue = invokeRestart(\"eval_continue\"), \n .         stop = invokeRestart(\"eval_stop\"), error = invokeRestart(\"eval_error\", \n .             cnd))\n . }, \"non è possibile aprire la connessione\", base::quote(file(file, \n .     \"rt\")))"
     ]
    }
   ],
   "source": [
    "# Load the dataset from the data folder\n",
    "setwd(\"/Users/elisabettatea/Projects/iris-project/data\")\n",
    "iris.data <- read.csv(\"data/iris.data.txt\", header = TRUE)"
   ]
  },
  {
   "cell_type": "code",
   "execution_count": 6,
   "id": "594ee111-34ec-4275-a68e-7f4743adbb0c",
   "metadata": {},
   "outputs": [
    {
     "ename": "ERROR",
     "evalue": "Error: oggetto 'iris.data' non trovato\n",
     "output_type": "error",
     "traceback": [
      "Error: oggetto 'iris.data' non trovato\nTraceback:\n"
     ]
    }
   ],
   "source": [
    "# Rename variables for simplicity\n",
    "names(iris.data)[names(iris.data) == \"sepalenght\"] <- \"sl\"\n",
    "names(iris.data)[names(iris.data) == \"petalenght\"] <- \"pl\"\n",
    "names(iris.data)[names(iris.data) == \"sepalwidth\"] <- \"sw\"\n",
    "names(iris.data)[names(iris.data) == \"petalwidth\"] <- \"pw\"\n",
    "View(iris.data)"
   ]
  },
  {
   "cell_type": "code",
   "execution_count": null,
   "id": "8cde2acd-ff0b-4792-afe8-3e7323f057b5",
   "metadata": {},
   "outputs": [],
   "source": [
    "# Data visualization\n",
    "pairs(iris.data, pch = 16) \n",
    "ggpairs(data = iris.data, title = \"Relationships between predictors and response\",\n",
    "        lower = list(continuous = wrap(\"points\", alpha = 0.5, size = 0.1)))"
   ]
  },
  {
   "cell_type": "code",
   "execution_count": null,
   "id": "ef389009-4b87-49ed-bf29-8d32db62f1c8",
   "metadata": {},
   "outputs": [],
   "source": [
    "# Convert 'class' to numeric factor\n",
    "iris.data$class = as.factor(iris.data$class)\n",
    "iris.data$class = as.numeric(iris.data$class)"
   ]
  },
  {
   "cell_type": "code",
   "execution_count": null,
   "id": "1d6c2799-4fef-4213-91dc-e48584a8745b",
   "metadata": {},
   "outputs": [],
   "source": [
    "# Correlation indices\n",
    "X = iris.data[, -5]\n",
    "corrplot(cor(X), method = 'color')\n",
    "corrplot(cor(X), method = 'number')"
   ]
  },
  {
   "cell_type": "code",
   "execution_count": null,
   "id": "ca885239-1442-4938-94e8-0dec37b81546",
   "metadata": {},
   "outputs": [],
   "source": [
    "# Response vs covariates plots\n",
    "# Class vs Petal Length (pl)\n",
    "plot(iris.data$pl, iris.data$class, pch = ifelse(iris.data$class == 1, 3, 4),\n",
    "     col = ifelse(iris.data$class == 1, 'forestgreen', 'forestgreen'),\n",
    "     xlab = 'pl', ylab = 'class', main = 'class vs. pl', lwd = 2, cex = 1.5)"
   ]
  },
  {
   "cell_type": "code",
   "execution_count": null,
   "id": "7ddfa80d-4a9c-431e-ad73-1b99fbff9be6",
   "metadata": {},
   "outputs": [],
   "source": [
    "# Class vs Petal Width (pw)\n",
    "plot(iris.data$pw, iris.data$class, pch = ifelse(iris.data$class == 1, 3, 4),\n",
    "     col = ifelse(iris.data$class == 1, 'red', 'red'),\n",
    "     xlab = 'pw', ylab = 'class', main = 'class vs. pw', lwd = 2, cex = 1.5)"
   ]
  },
  {
   "cell_type": "code",
   "execution_count": null,
   "id": "0f732af3-3f5e-49e1-ad42-5ae16dbb2dc7",
   "metadata": {},
   "outputs": [],
   "source": [
    "# Class vs Sepal Length (sl)\n",
    "plot(iris.data$sl, iris.data$class, pch = ifelse(iris.data$class == 1, 3, 4),\n",
    "     col = ifelse(iris.data$class == 1, 'blue', 'blue'),\n",
    "     xlab = 'sl', ylab = 'class', main = 'class vs. sl', lwd = 2, cex = 1.5)"
   ]
  },
  {
   "cell_type": "code",
   "execution_count": null,
   "id": "bce3b4e9-4a9f-466f-abcc-466eb18d3c2f",
   "metadata": {},
   "outputs": [],
   "source": [
    "# Class vs Sepal Width (sw)\n",
    "plot(iris.data$sw, iris.data$class, pch = ifelse(iris.data$class == 1, 3, 4),\n",
    "     col = ifelse(iris.data$class == 1, 'purple', 'purple'),\n",
    "     xlab = 'sw', ylab = 'class', main = 'class vs. sw', lwd = 2, cex = 1.5)"
   ]
  }
 ],
 "metadata": {
  "kernelspec": {
   "display_name": "R",
   "language": "R",
   "name": "ir"
  },
  "language_info": {
   "codemirror_mode": "r",
   "file_extension": ".r",
   "mimetype": "text/x-r-source",
   "name": "R",
   "pygments_lexer": "r",
   "version": "4.4.2"
  }
 },
 "nbformat": 4,
 "nbformat_minor": 5
}
