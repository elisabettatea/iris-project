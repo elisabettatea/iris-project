{
 "cells": [
  {
   "cell_type": "code",
   "execution_count": 2,
   "id": "f8234f80-4937-4cc2-86ff-58b1a4a6504c",
   "metadata": {},
   "outputs": [
    {
     "name": "stderr",
     "output_type": "stream",
     "text": [
      "Caricamento del pacchetto richiesto: Hmisc\n",
      "\n",
      "\n",
      "Caricamento pacchetto: ‘Hmisc’\n",
      "\n",
      "\n",
      "I seguenti oggetti sono mascherati da ‘package:base’:\n",
      "\n",
      "    format.pval, units\n",
      "\n",
      "\n",
      "ResourceSelection 0.3-6 \t 2023-06-27\n",
      "\n"
     ]
    }
   ],
   "source": [
    "# Load necessary libraries\n",
    "library(rms)\n",
    "library(ResourceSelection)"
   ]
  },
  {
   "cell_type": "code",
   "execution_count": 4,
   "id": "0de7a8b5-dad8-4c8a-b8dd-1de1db4e6493",
   "metadata": {},
   "outputs": [],
   "source": [
    "# Load the dataset from the data folder\n",
    "setwd(\"../data\")\n",
    "iris.data <- read.csv(\"iris.data.txt\", header = TRUE)"
   ]
  },
  {
   "cell_type": "code",
   "execution_count": 6,
   "id": "19ac3351-75b0-438f-a7e6-47670403f0bb",
   "metadata": {},
   "outputs": [],
   "source": [
    "# Filter out the \"Iris-setosa\" class to create a binary classification problem\n",
    "iris.datalog <- iris.data[iris.data$class != \"Iris-setosa\", ]"
   ]
  },
  {
   "cell_type": "code",
   "execution_count": 8,
   "id": "be26a7c1-c23c-4e7e-9c25-a6dcc9eb4bd1",
   "metadata": {},
   "outputs": [],
   "source": [
    "# Rename variables for clarity\n",
    "names(iris.datalog)[names(iris.datalog) == \"sepalenght\"] <- \"sl\"\n",
    "names(iris.datalog)[names(iris.datalog) == \"petalenght\"] <- \"pl\"\n",
    "names(iris.datalog)[names(iris.datalog) == \"sepalwidth\"] <- \"sw\"\n",
    "names(iris.datalog)[names(iris.datalog) == \"petalwidth\"] <- \"pw\""
   ]
  },
  {
   "cell_type": "code",
   "execution_count": 10,
   "id": "df370371-bc59-4408-bfb8-94e9f24025ce",
   "metadata": {},
   "outputs": [],
   "source": [
    "# Transform the 'class' variable into a binary variable\n",
    "# 1 for \"Iris-versicolor\", 0 for other classes\n",
    "iris.datalog$class_binaria <- ifelse(iris.datalog$class == \"Iris-versicolor\", 1, 0)"
   ]
  },
  {
   "cell_type": "code",
   "execution_count": 12,
   "id": "6837daf1-797c-47a0-bbf9-49e3ee4b9d55",
   "metadata": {},
   "outputs": [
    {
     "data": {
      "text/html": [
       "<table class=\"dataframe\">\n",
       "<caption>A data.frame: 6 × 6</caption>\n",
       "<thead>\n",
       "\t<tr><th></th><th scope=col>sl</th><th scope=col>sw</th><th scope=col>pl</th><th scope=col>pw</th><th scope=col>class</th><th scope=col>class_binaria</th></tr>\n",
       "\t<tr><th></th><th scope=col>&lt;dbl&gt;</th><th scope=col>&lt;dbl&gt;</th><th scope=col>&lt;dbl&gt;</th><th scope=col>&lt;dbl&gt;</th><th scope=col>&lt;chr&gt;</th><th scope=col>&lt;dbl&gt;</th></tr>\n",
       "</thead>\n",
       "<tbody>\n",
       "\t<tr><th scope=row>51</th><td>7.0</td><td>3.2</td><td>4.7</td><td>1.4</td><td>Iris-versicolor</td><td>1</td></tr>\n",
       "\t<tr><th scope=row>52</th><td>6.4</td><td>3.2</td><td>4.5</td><td>1.5</td><td>Iris-versicolor</td><td>1</td></tr>\n",
       "\t<tr><th scope=row>53</th><td>6.9</td><td>3.1</td><td>4.9</td><td>1.5</td><td>Iris-versicolor</td><td>1</td></tr>\n",
       "\t<tr><th scope=row>54</th><td>5.5</td><td>2.3</td><td>4.0</td><td>1.3</td><td>Iris-versicolor</td><td>1</td></tr>\n",
       "\t<tr><th scope=row>55</th><td>6.5</td><td>2.8</td><td>4.6</td><td>1.5</td><td>Iris-versicolor</td><td>1</td></tr>\n",
       "\t<tr><th scope=row>56</th><td>5.7</td><td>2.8</td><td>4.5</td><td>1.3</td><td>Iris-versicolor</td><td>1</td></tr>\n",
       "</tbody>\n",
       "</table>\n"
      ],
      "text/latex": [
       "A data.frame: 6 × 6\n",
       "\\begin{tabular}{r|llllll}\n",
       "  & sl & sw & pl & pw & class & class\\_binaria\\\\\n",
       "  & <dbl> & <dbl> & <dbl> & <dbl> & <chr> & <dbl>\\\\\n",
       "\\hline\n",
       "\t51 & 7.0 & 3.2 & 4.7 & 1.4 & Iris-versicolor & 1\\\\\n",
       "\t52 & 6.4 & 3.2 & 4.5 & 1.5 & Iris-versicolor & 1\\\\\n",
       "\t53 & 6.9 & 3.1 & 4.9 & 1.5 & Iris-versicolor & 1\\\\\n",
       "\t54 & 5.5 & 2.3 & 4.0 & 1.3 & Iris-versicolor & 1\\\\\n",
       "\t55 & 6.5 & 2.8 & 4.6 & 1.5 & Iris-versicolor & 1\\\\\n",
       "\t56 & 5.7 & 2.8 & 4.5 & 1.3 & Iris-versicolor & 1\\\\\n",
       "\\end{tabular}\n"
      ],
      "text/markdown": [
       "\n",
       "A data.frame: 6 × 6\n",
       "\n",
       "| <!--/--> | sl &lt;dbl&gt; | sw &lt;dbl&gt; | pl &lt;dbl&gt; | pw &lt;dbl&gt; | class &lt;chr&gt; | class_binaria &lt;dbl&gt; |\n",
       "|---|---|---|---|---|---|---|\n",
       "| 51 | 7.0 | 3.2 | 4.7 | 1.4 | Iris-versicolor | 1 |\n",
       "| 52 | 6.4 | 3.2 | 4.5 | 1.5 | Iris-versicolor | 1 |\n",
       "| 53 | 6.9 | 3.1 | 4.9 | 1.5 | Iris-versicolor | 1 |\n",
       "| 54 | 5.5 | 2.3 | 4.0 | 1.3 | Iris-versicolor | 1 |\n",
       "| 55 | 6.5 | 2.8 | 4.6 | 1.5 | Iris-versicolor | 1 |\n",
       "| 56 | 5.7 | 2.8 | 4.5 | 1.3 | Iris-versicolor | 1 |\n",
       "\n"
      ],
      "text/plain": [
       "   sl  sw  pl  pw  class           class_binaria\n",
       "51 7.0 3.2 4.7 1.4 Iris-versicolor 1            \n",
       "52 6.4 3.2 4.5 1.5 Iris-versicolor 1            \n",
       "53 6.9 3.1 4.9 1.5 Iris-versicolor 1            \n",
       "54 5.5 2.3 4.0 1.3 Iris-versicolor 1            \n",
       "55 6.5 2.8 4.6 1.5 Iris-versicolor 1            \n",
       "56 5.7 2.8 4.5 1.3 Iris-versicolor 1            "
      ]
     },
     "metadata": {},
     "output_type": "display_data"
    },
    {
     "name": "stdout",
     "output_type": "stream",
     "text": [
      "'data.frame':\t100 obs. of  6 variables:\n",
      " $ sl           : num  7 6.4 6.9 5.5 6.5 5.7 6.3 4.9 6.6 5.2 ...\n",
      " $ sw           : num  3.2 3.2 3.1 2.3 2.8 2.8 3.3 2.4 2.9 2.7 ...\n",
      " $ pl           : num  4.7 4.5 4.9 4 4.6 4.5 4.7 3.3 4.6 3.9 ...\n",
      " $ pw           : num  1.4 1.5 1.5 1.3 1.5 1.3 1.6 1 1.3 1.4 ...\n",
      " $ class        : chr  \"Iris-versicolor\" \"Iris-versicolor\" \"Iris-versicolor\" \"Iris-versicolor\" ...\n",
      " $ class_binaria: num  1 1 1 1 1 1 1 1 1 1 ...\n"
     ]
    }
   ],
   "source": [
    "# Preview the updated dataset\n",
    "head(iris.datalog)\n",
    "str(iris.datalog)"
   ]
  },
  {
   "cell_type": "code",
   "execution_count": null,
   "id": "5a3ea0b4-3693-49f5-b6e1-6e36e2d94e90",
   "metadata": {},
   "outputs": [],
   "source": [
    "# Remove the original 'class' variable since the binary variable is sufficient\n",
    "iris.datalog <- iris.datalog[,-5]"
   ]
  },
  {
   "cell_type": "code",
   "execution_count": null,
   "id": "6eca3813-1928-4c33-bafb-1a5e77370657",
   "metadata": {},
   "outputs": [],
   "source": [
    "# Split the dataset into training and testing sets\n",
    "set.seed(42)  # Set seed for reproducibility\n",
    "train_indices <- sample(1:nrow(iris.datalog), nrow(iris.datalog) * 0.7)  # 70% training set\n",
    "train_data <- iris.datalog[train_indices, ]\n",
    "test_data <- iris.datalog[-train_indices, ]"
   ]
  },
  {
   "cell_type": "code",
   "execution_count": null,
   "id": "648b345e-c1df-45a4-b314-a32a7e4bfc48",
   "metadata": {},
   "outputs": [],
   "source": [
    "# Fit a logistic regression model with all predictors\n",
    "model <- glm(class_binaria ~ sl + sw + pl + pw, data = iris.datalog, family = \"binomial\")\n",
    "summary(model)\n",
    "# Results: AIC = 21.899, NULL DEVIANCE = 138.629, RESIDUAL DEVIANCE = 11.899"
   ]
  },
  {
   "cell_type": "code",
   "execution_count": null,
   "id": "2155883e-bb1c-4fdb-990f-6bca0c5c5869",
   "metadata": {},
   "outputs": [],
   "source": [
    "# Fit a refined logistic regression model with selected predictors\n",
    "model2 <- glm(class_binaria ~ sw + pl + pw, data = iris.datalog, family = \"binomial\")\n",
    "summary(model2)\n",
    "# Results: AIC = 21.266, NULL DEVIANCE = 138.629, RESIDUAL DEVIANCE = 13.266 (improvement)"
   ]
  },
  {
   "cell_type": "code",
   "execution_count": null,
   "id": "20d14010-66bd-4918-9f4e-9456d61d6846",
   "metadata": {},
   "outputs": [],
   "source": [
    "# Compare models using ANOVA\n",
    "anova(model2, model, test = \"Chisq\")"
   ]
  },
  {
   "cell_type": "code",
   "execution_count": null,
   "id": "1027ef67-f985-435c-afd9-36f0f0f48100",
   "metadata": {},
   "outputs": [],
   "source": [
    "# Check Odds Ratios for predictors in model2\n",
    "model.matrix(model2)[1:15, ]\n",
    "exp(coef(model2)[2])  # Odds Ratio for sw\n",
    "exp(coef(model2)[3])  # Odds Ratio for pl\n",
    "exp(coef(model2)[4])  # Odds Ratio for pw"
   ]
  },
  {
   "cell_type": "code",
   "execution_count": null,
   "id": "20a39f73-758a-446e-8a58-45a61ecbd925",
   "metadata": {},
   "outputs": [],
   "source": [
    "# Goodness-of-Fit check using Hosmer-Lemeshow test\n",
    "hoslem.test(model2$y, fitted(model2), g = 6)  # Grouping into 6 bins\n",
    "# p-value = 0.984, indicating the model is very valid."
   ]
  }
 ],
 "metadata": {
  "kernelspec": {
   "display_name": "R",
   "language": "R",
   "name": "ir"
  },
  "language_info": {
   "codemirror_mode": "r",
   "file_extension": ".r",
   "mimetype": "text/x-r-source",
   "name": "R",
   "pygments_lexer": "r",
   "version": "4.4.2"
  }
 },
 "nbformat": 4,
 "nbformat_minor": 5
}
