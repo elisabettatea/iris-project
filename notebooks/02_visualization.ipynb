{
 "cells": [
  {
   "cell_type": "code",
   "execution_count": null,
   "id": "d5f8c1cb-74c9-4e25-a35e-f1f56399cd79",
   "metadata": {},
   "outputs": [],
   "source": [
    "# Required packages\n",
    "library(GGally)    # For ggpairs\n",
    "library(corrplot)  # For correlation plots"
   ]
  },
  {
   "cell_type": "code",
   "execution_count": null,
   "id": "dfa1da70-3317-4dba-93fb-9f4d6baeca34",
   "metadata": {},
   "outputs": [],
   "source": [
    "# Load the dataset from the data folder\n",
    "setwd(\"../data\")\n",
    "iris.data <- read.csv(\"iris.data.txt\", header = TRUE)"
   ]
  },
  {
   "cell_type": "code",
   "execution_count": null,
   "id": "594ee111-34ec-4275-a68e-7f4743adbb0c",
   "metadata": {},
   "outputs": [],
   "source": [
    "# Rename variables for simplicity\n",
    "names(iris.data)[names(iris.data) == \"sepalenght\"] <- \"sl\"\n",
    "names(iris.data)[names(iris.data) == \"petalenght\"] <- \"pl\"\n",
    "names(iris.data)[names(iris.data) == \"sepalwidth\"] <- \"sw\"\n",
    "names(iris.data)[names(iris.data) == \"petalwidth\"] <- \"pw\"\n",
    "View(iris.data)"
   ]
  },
  {
   "cell_type": "code",
   "execution_count": null,
   "id": "ebf1cbe6-0ca8-4cf5-b491-2f5524e9136b",
   "metadata": {},
   "outputs": [],
   "source": [
    "# Data visualization\n",
    "\n",
    "# Select numeric coloumns (exclude 'class')\n",
    "iris.num <- iris.data[, sapply(iris.data, is.numeric)]\n",
    "\n",
    "# Use 'pairs' only on numeric coloumns\n",
    "pairs(iris.num, pch = 16)"
   ]
  },
  {
   "cell_type": "code",
   "execution_count": null,
   "id": "494f2756-2bbb-4cae-a715-6f9af3d9ff9c",
   "metadata": {},
   "outputs": [],
   "source": [
    "ggpairs(data = iris.data, title = \"Relationships between predictors and response\",\n",
    "        lower = list(continuous = wrap(\"points\", alpha = 0.5, size = 0.1)))"
   ]
  },
  {
   "cell_type": "code",
   "execution_count": null,
   "id": "48c59438-c72d-4129-9065-05c56ea9d7b8",
   "metadata": {},
   "outputs": [],
   "source": [
    "# Correlation indices\n",
    "X = iris.data[, -5]\n",
    "corrplot(cor(X), method = 'color')\n",
    "corrplot(cor(X), method = 'number')"
   ]
  },
  {
   "cell_type": "code",
   "execution_count": null,
   "id": "c81da784-70e5-4d85-a25a-13d36c007fa1",
   "metadata": {},
   "outputs": [],
   "source": [
    "# Response vs covariates plots\n",
    "# Class vs Petal Length (pl)\n",
    "plot(iris.data$pl, iris.data$class, pch = ifelse(iris.data$class == 1, 3, 4),\n",
    "     col = ifelse(iris.data$class == 1, 'forestgreen', 'forestgreen'),\n",
    "     xlab = 'pl', ylab = 'class', main = 'class vs. pl', lwd = 2, cex = 1.5)\n",
    "\n",
    "# Class vs Petal Width (pw)\n",
    "plot(iris.data$pw, iris.data$class, pch = ifelse(iris.data$class == 1, 3, 4),\n",
    "     col = ifelse(iris.data$class == 1, 'red', 'red'),\n",
    "     xlab = 'pw', ylab = 'class', main = 'class vs. pw', lwd = 2, cex = 1.5)\n",
    "\n",
    "# Class vs Sepal Length (sl)\n",
    "plot(iris.data$sl, iris.data$class, pch = ifelse(iris.data$class == 1, 3, 4),\n",
    "     col = ifelse(iris.data$class == 1, 'blue', 'blue'),\n",
    "     xlab = 'sl', ylab = 'class', main = 'class vs. sl', lwd = 2, cex = 1.5)\n",
    "\n",
    "# Class vs Sepal Width (sw)\n",
    "plot(iris.data$sw, iris.data$class, pch = ifelse(iris.data$class == 1, 3, 4),\n",
    "     col = ifelse(iris.data$class == 1, 'purple', 'purple'),\n",
    "     xlab = 'sw', ylab = 'class', main = 'class vs. sw', lwd = 2, cex = 1.5)"
   ]
  }
 ],
 "metadata": {
  "kernelspec": {
   "display_name": "R",
   "language": "R",
   "name": "ir"
  },
  "language_info": {
   "codemirror_mode": "r",
   "file_extension": ".r",
   "mimetype": "text/x-r-source",
   "name": "R",
   "pygments_lexer": "r",
   "version": "4.4.2"
  }
 },
 "nbformat": 4,
 "nbformat_minor": 5
}
