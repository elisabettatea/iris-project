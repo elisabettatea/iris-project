{
 "cells": [
  {
   "cell_type": "code",
   "execution_count": 2,
   "id": "f8234f80-4937-4cc2-86ff-58b1a4a6504c",
   "metadata": {
    "vscode": {
     "languageId": "r"
    }
   },
   "outputs": [
    {
     "name": "stderr",
     "output_type": "stream",
     "text": [
      "Caricamento del pacchetto richiesto: Hmisc\n",
      "\n",
      "\n",
      "Caricamento pacchetto: ‘Hmisc’\n",
      "\n",
      "\n",
      "I seguenti oggetti sono mascherati da ‘package:base’:\n",
      "\n",
      "    format.pval, units\n",
      "\n",
      "\n",
      "ResourceSelection 0.3-6 \t 2023-06-27\n",
      "\n"
     ]
    }
   ],
   "source": [
    "# Load necessary libraries\n",
    "library(rms)\n",
    "library(ResourceSelection)"
   ]
  },
  {
   "cell_type": "code",
   "execution_count": 24,
   "id": "88bc006e-5d6d-4332-8ecf-1d6f31cd2481",
   "metadata": {
    "vscode": {
     "languageId": "r"
    }
   },
   "outputs": [
    {
     "data": {
      "text/html": [
       "<table class=\"dataframe\">\n",
       "<caption>A data.frame: 6 × 6</caption>\n",
       "<thead>\n",
       "\t<tr><th></th><th scope=col>sl</th><th scope=col>sw</th><th scope=col>pl</th><th scope=col>pw</th><th scope=col>class</th><th scope=col>class_binaria</th></tr>\n",
       "\t<tr><th></th><th scope=col>&lt;dbl&gt;</th><th scope=col>&lt;dbl&gt;</th><th scope=col>&lt;dbl&gt;</th><th scope=col>&lt;dbl&gt;</th><th scope=col>&lt;chr&gt;</th><th scope=col>&lt;dbl&gt;</th></tr>\n",
       "</thead>\n",
       "<tbody>\n",
       "\t<tr><th scope=row>51</th><td>7.0</td><td>3.2</td><td>4.7</td><td>1.4</td><td>Iris-versicolor</td><td>1</td></tr>\n",
       "\t<tr><th scope=row>52</th><td>6.4</td><td>3.2</td><td>4.5</td><td>1.5</td><td>Iris-versicolor</td><td>1</td></tr>\n",
       "\t<tr><th scope=row>53</th><td>6.9</td><td>3.1</td><td>4.9</td><td>1.5</td><td>Iris-versicolor</td><td>1</td></tr>\n",
       "\t<tr><th scope=row>54</th><td>5.5</td><td>2.3</td><td>4.0</td><td>1.3</td><td>Iris-versicolor</td><td>1</td></tr>\n",
       "\t<tr><th scope=row>55</th><td>6.5</td><td>2.8</td><td>4.6</td><td>1.5</td><td>Iris-versicolor</td><td>1</td></tr>\n",
       "\t<tr><th scope=row>56</th><td>5.7</td><td>2.8</td><td>4.5</td><td>1.3</td><td>Iris-versicolor</td><td>1</td></tr>\n",
       "</tbody>\n",
       "</table>\n"
      ],
      "text/latex": [
       "A data.frame: 6 × 6\n",
       "\\begin{tabular}{r|llllll}\n",
       "  & sl & sw & pl & pw & class & class\\_binaria\\\\\n",
       "  & <dbl> & <dbl> & <dbl> & <dbl> & <chr> & <dbl>\\\\\n",
       "\\hline\n",
       "\t51 & 7.0 & 3.2 & 4.7 & 1.4 & Iris-versicolor & 1\\\\\n",
       "\t52 & 6.4 & 3.2 & 4.5 & 1.5 & Iris-versicolor & 1\\\\\n",
       "\t53 & 6.9 & 3.1 & 4.9 & 1.5 & Iris-versicolor & 1\\\\\n",
       "\t54 & 5.5 & 2.3 & 4.0 & 1.3 & Iris-versicolor & 1\\\\\n",
       "\t55 & 6.5 & 2.8 & 4.6 & 1.5 & Iris-versicolor & 1\\\\\n",
       "\t56 & 5.7 & 2.8 & 4.5 & 1.3 & Iris-versicolor & 1\\\\\n",
       "\\end{tabular}\n"
      ],
      "text/markdown": [
       "\n",
       "A data.frame: 6 × 6\n",
       "\n",
       "| <!--/--> | sl &lt;dbl&gt; | sw &lt;dbl&gt; | pl &lt;dbl&gt; | pw &lt;dbl&gt; | class &lt;chr&gt; | class_binaria &lt;dbl&gt; |\n",
       "|---|---|---|---|---|---|---|\n",
       "| 51 | 7.0 | 3.2 | 4.7 | 1.4 | Iris-versicolor | 1 |\n",
       "| 52 | 6.4 | 3.2 | 4.5 | 1.5 | Iris-versicolor | 1 |\n",
       "| 53 | 6.9 | 3.1 | 4.9 | 1.5 | Iris-versicolor | 1 |\n",
       "| 54 | 5.5 | 2.3 | 4.0 | 1.3 | Iris-versicolor | 1 |\n",
       "| 55 | 6.5 | 2.8 | 4.6 | 1.5 | Iris-versicolor | 1 |\n",
       "| 56 | 5.7 | 2.8 | 4.5 | 1.3 | Iris-versicolor | 1 |\n",
       "\n"
      ],
      "text/plain": [
       "   sl  sw  pl  pw  class           class_binaria\n",
       "51 7.0 3.2 4.7 1.4 Iris-versicolor 1            \n",
       "52 6.4 3.2 4.5 1.5 Iris-versicolor 1            \n",
       "53 6.9 3.1 4.9 1.5 Iris-versicolor 1            \n",
       "54 5.5 2.3 4.0 1.3 Iris-versicolor 1            \n",
       "55 6.5 2.8 4.6 1.5 Iris-versicolor 1            \n",
       "56 5.7 2.8 4.5 1.3 Iris-versicolor 1            "
      ]
     },
     "metadata": {},
     "output_type": "display_data"
    },
    {
     "name": "stdout",
     "output_type": "stream",
     "text": [
      "'data.frame':\t100 obs. of  6 variables:\n",
      " $ sl           : num  7 6.4 6.9 5.5 6.5 5.7 6.3 4.9 6.6 5.2 ...\n",
      " $ sw           : num  3.2 3.2 3.1 2.3 2.8 2.8 3.3 2.4 2.9 2.7 ...\n",
      " $ pl           : num  4.7 4.5 4.9 4 4.6 4.5 4.7 3.3 4.6 3.9 ...\n",
      " $ pw           : num  1.4 1.5 1.5 1.3 1.5 1.3 1.6 1 1.3 1.4 ...\n",
      " $ class        : chr  \"Iris-versicolor\" \"Iris-versicolor\" \"Iris-versicolor\" \"Iris-versicolor\" ...\n",
      " $ class_binaria: num  1 1 1 1 1 1 1 1 1 1 ...\n"
     ]
    }
   ],
   "source": [
    "# Load the dataset from the data folder\n",
    "setwd(\"../data\")\n",
    "iris.data <- read.csv(\"iris.data.txt\", header = TRUE)\n",
    "\n",
    "# Filter out the \"Iris-setosa\" class to create a binary classification problem\n",
    "iris.datalog <- iris.data[iris.data$class != \"Iris-setosa\", ]\n",
    "\n",
    "# Rename variables for clarity\n",
    "names(iris.datalog)[names(iris.datalog) == \"sepalenght\"] <- \"sl\"\n",
    "names(iris.datalog)[names(iris.datalog) == \"petalenght\"] <- \"pl\"\n",
    "names(iris.datalog)[names(iris.datalog) == \"sepalwidth\"] <- \"sw\"\n",
    "names(iris.datalog)[names(iris.datalog) == \"petalwidth\"] <- \"pw\"\n",
    "\n",
    "# Transform the 'class' variable into a binary variable\n",
    "# 1 for \"Iris-versicolor\", 0 for other classes\n",
    "iris.datalog$class_binaria <- ifelse(iris.datalog$class == \"Iris-versicolor\", 1, 0)\n",
    "\n",
    "# Preview the updated dataset\n",
    "head(iris.datalog)\n",
    "str(iris.datalog)"
   ]
  },
  {
   "cell_type": "code",
   "execution_count": 26,
   "id": "7b8a2669-7491-4cc1-a797-74672a28a277",
   "metadata": {
    "vscode": {
     "languageId": "r"
    }
   },
   "outputs": [
    {
     "data": {
      "text/plain": [
       "\n",
       "Call:\n",
       "glm(formula = class_binaria ~ sl + sw + pl + pw, family = \"binomial\", \n",
       "    data = iris.datalog)\n",
       "\n",
       "Coefficients:\n",
       "            Estimate Std. Error z value Pr(>|z|)  \n",
       "(Intercept)   42.638     25.707   1.659   0.0972 .\n",
       "sl             2.465      2.394   1.030   0.3032  \n",
       "sw             6.681      4.480   1.491   0.1359  \n",
       "pl            -9.429      4.737  -1.991   0.0465 *\n",
       "pw           -18.286      9.743  -1.877   0.0605 .\n",
       "---\n",
       "Signif. codes:  0 ‘***’ 0.001 ‘**’ 0.01 ‘*’ 0.05 ‘.’ 0.1 ‘ ’ 1\n",
       "\n",
       "(Dispersion parameter for binomial family taken to be 1)\n",
       "\n",
       "    Null deviance: 138.629  on 99  degrees of freedom\n",
       "Residual deviance:  11.899  on 95  degrees of freedom\n",
       "AIC: 21.899\n",
       "\n",
       "Number of Fisher Scoring iterations: 10\n"
      ]
     },
     "metadata": {},
     "output_type": "display_data"
    }
   ],
   "source": [
    "# Remove the original 'class' variable since the binary variable is sufficient\n",
    "iris.datalog <- iris.datalog[,-5]\n",
    "\n",
    "# Split the dataset into training and testing sets\n",
    "set.seed(42)  # Set seed for reproducibility\n",
    "train_indices <- sample(1:nrow(iris.datalog), nrow(iris.datalog) * 0.7)  # 70% training set\n",
    "train_data <- iris.datalog[train_indices, ]\n",
    "test_data <- iris.datalog[-train_indices, ]\n",
    "\n",
    "# Fit a logistic regression model with all predictors\n",
    "model <- glm(class_binaria ~ sl + sw + pl + pw, data = iris.datalog, family = \"binomial\")\n",
    "summary(model)\n",
    "# Results: AIC = 21.899, NULL DEVIANCE = 138.629, RESIDUAL DEVIANCE = 11.899"
   ]
  },
  {
   "cell_type": "code",
   "execution_count": 28,
   "id": "2155883e-bb1c-4fdb-990f-6bca0c5c5869",
   "metadata": {
    "vscode": {
     "languageId": "r"
    }
   },
   "outputs": [
    {
     "name": "stderr",
     "output_type": "stream",
     "text": [
      "Warning message:\n",
      "“glm.fit: si sono verificate probabilità stimate numericamente pari a 0 o 1”\n"
     ]
    },
    {
     "data": {
      "text/plain": [
       "\n",
       "Call:\n",
       "glm(formula = class_binaria ~ sw + pl + pw, family = \"binomial\", \n",
       "    data = iris.datalog)\n",
       "\n",
       "Coefficients:\n",
       "            Estimate Std. Error z value Pr(>|z|)  \n",
       "(Intercept)   50.527     23.995   2.106   0.0352 *\n",
       "sw             8.376      4.761   1.759   0.0785 .\n",
       "pl            -7.875      3.841  -2.050   0.0403 *\n",
       "pw           -21.430     10.707  -2.001   0.0453 *\n",
       "---\n",
       "Signif. codes:  0 ‘***’ 0.001 ‘**’ 0.01 ‘*’ 0.05 ‘.’ 0.1 ‘ ’ 1\n",
       "\n",
       "(Dispersion parameter for binomial family taken to be 1)\n",
       "\n",
       "    Null deviance: 138.629  on 99  degrees of freedom\n",
       "Residual deviance:  13.266  on 96  degrees of freedom\n",
       "AIC: 21.266\n",
       "\n",
       "Number of Fisher Scoring iterations: 10\n"
      ]
     },
     "metadata": {},
     "output_type": "display_data"
    }
   ],
   "source": [
    "# Fit a refined logistic regression model with selected predictors\n",
    "model2 <- glm(class_binaria ~ sw + pl + pw, data = iris.datalog, family = \"binomial\")\n",
    "summary(model2)\n",
    "# Results: AIC = 21.266, NULL DEVIANCE = 138.629, RESIDUAL DEVIANCE = 13.266 (improvement)"
   ]
  },
  {
   "cell_type": "code",
   "execution_count": 30,
   "id": "20d14010-66bd-4918-9f4e-9456d61d6846",
   "metadata": {
    "vscode": {
     "languageId": "r"
    }
   },
   "outputs": [
    {
     "data": {
      "text/html": [
       "<table class=\"dataframe\">\n",
       "<caption>A anova: 2 × 5</caption>\n",
       "<thead>\n",
       "\t<tr><th></th><th scope=col>Resid. Df</th><th scope=col>Resid. Dev</th><th scope=col>Df</th><th scope=col>Deviance</th><th scope=col>Pr(&gt;Chi)</th></tr>\n",
       "\t<tr><th></th><th scope=col>&lt;dbl&gt;</th><th scope=col>&lt;dbl&gt;</th><th scope=col>&lt;dbl&gt;</th><th scope=col>&lt;dbl&gt;</th><th scope=col>&lt;dbl&gt;</th></tr>\n",
       "</thead>\n",
       "<tbody>\n",
       "\t<tr><th scope=row>1</th><td>95</td><td>11.89855</td><td>NA</td><td>       NA</td><td>       NA</td></tr>\n",
       "\t<tr><th scope=row>2</th><td>96</td><td>13.26584</td><td>-1</td><td>-1.367292</td><td>0.2422776</td></tr>\n",
       "</tbody>\n",
       "</table>\n"
      ],
      "text/latex": [
       "A anova: 2 × 5\n",
       "\\begin{tabular}{r|lllll}\n",
       "  & Resid. Df & Resid. Dev & Df & Deviance & Pr(>Chi)\\\\\n",
       "  & <dbl> & <dbl> & <dbl> & <dbl> & <dbl>\\\\\n",
       "\\hline\n",
       "\t1 & 95 & 11.89855 & NA &        NA &        NA\\\\\n",
       "\t2 & 96 & 13.26584 & -1 & -1.367292 & 0.2422776\\\\\n",
       "\\end{tabular}\n"
      ],
      "text/markdown": [
       "\n",
       "A anova: 2 × 5\n",
       "\n",
       "| <!--/--> | Resid. Df &lt;dbl&gt; | Resid. Dev &lt;dbl&gt; | Df &lt;dbl&gt; | Deviance &lt;dbl&gt; | Pr(&gt;Chi) &lt;dbl&gt; |\n",
       "|---|---|---|---|---|---|\n",
       "| 1 | 95 | 11.89855 | NA |        NA |        NA |\n",
       "| 2 | 96 | 13.26584 | -1 | -1.367292 | 0.2422776 |\n",
       "\n"
      ],
      "text/plain": [
       "  Resid. Df Resid. Dev Df Deviance  Pr(>Chi) \n",
       "1 95        11.89855   NA        NA        NA\n",
       "2 96        13.26584   -1 -1.367292 0.2422776"
      ]
     },
     "metadata": {},
     "output_type": "display_data"
    }
   ],
   "source": [
    "# Compare models using ANOVA\n",
    "anova(model, model2, test = \"Chisq\")"
   ]
  },
  {
   "cell_type": "code",
   "execution_count": 32,
   "id": "1027ef67-f985-435c-afd9-36f0f0f48100",
   "metadata": {
    "vscode": {
     "languageId": "r"
    }
   },
   "outputs": [
    {
     "data": {
      "text/html": [
       "<table class=\"dataframe\">\n",
       "<caption>A matrix: 15 × 4 of type dbl</caption>\n",
       "<thead>\n",
       "\t<tr><th></th><th scope=col>(Intercept)</th><th scope=col>sw</th><th scope=col>pl</th><th scope=col>pw</th></tr>\n",
       "</thead>\n",
       "<tbody>\n",
       "\t<tr><th scope=row>51</th><td>1</td><td>3.2</td><td>4.7</td><td>1.4</td></tr>\n",
       "\t<tr><th scope=row>52</th><td>1</td><td>3.2</td><td>4.5</td><td>1.5</td></tr>\n",
       "\t<tr><th scope=row>53</th><td>1</td><td>3.1</td><td>4.9</td><td>1.5</td></tr>\n",
       "\t<tr><th scope=row>54</th><td>1</td><td>2.3</td><td>4.0</td><td>1.3</td></tr>\n",
       "\t<tr><th scope=row>55</th><td>1</td><td>2.8</td><td>4.6</td><td>1.5</td></tr>\n",
       "\t<tr><th scope=row>56</th><td>1</td><td>2.8</td><td>4.5</td><td>1.3</td></tr>\n",
       "\t<tr><th scope=row>57</th><td>1</td><td>3.3</td><td>4.7</td><td>1.6</td></tr>\n",
       "\t<tr><th scope=row>58</th><td>1</td><td>2.4</td><td>3.3</td><td>1.0</td></tr>\n",
       "\t<tr><th scope=row>59</th><td>1</td><td>2.9</td><td>4.6</td><td>1.3</td></tr>\n",
       "\t<tr><th scope=row>60</th><td>1</td><td>2.7</td><td>3.9</td><td>1.4</td></tr>\n",
       "\t<tr><th scope=row>61</th><td>1</td><td>2.0</td><td>3.5</td><td>1.0</td></tr>\n",
       "\t<tr><th scope=row>62</th><td>1</td><td>3.0</td><td>4.2</td><td>1.5</td></tr>\n",
       "\t<tr><th scope=row>63</th><td>1</td><td>2.2</td><td>4.0</td><td>1.0</td></tr>\n",
       "\t<tr><th scope=row>64</th><td>1</td><td>2.9</td><td>4.7</td><td>1.4</td></tr>\n",
       "\t<tr><th scope=row>65</th><td>1</td><td>2.9</td><td>3.6</td><td>1.3</td></tr>\n",
       "</tbody>\n",
       "</table>\n"
      ],
      "text/latex": [
       "A matrix: 15 × 4 of type dbl\n",
       "\\begin{tabular}{r|llll}\n",
       "  & (Intercept) & sw & pl & pw\\\\\n",
       "\\hline\n",
       "\t51 & 1 & 3.2 & 4.7 & 1.4\\\\\n",
       "\t52 & 1 & 3.2 & 4.5 & 1.5\\\\\n",
       "\t53 & 1 & 3.1 & 4.9 & 1.5\\\\\n",
       "\t54 & 1 & 2.3 & 4.0 & 1.3\\\\\n",
       "\t55 & 1 & 2.8 & 4.6 & 1.5\\\\\n",
       "\t56 & 1 & 2.8 & 4.5 & 1.3\\\\\n",
       "\t57 & 1 & 3.3 & 4.7 & 1.6\\\\\n",
       "\t58 & 1 & 2.4 & 3.3 & 1.0\\\\\n",
       "\t59 & 1 & 2.9 & 4.6 & 1.3\\\\\n",
       "\t60 & 1 & 2.7 & 3.9 & 1.4\\\\\n",
       "\t61 & 1 & 2.0 & 3.5 & 1.0\\\\\n",
       "\t62 & 1 & 3.0 & 4.2 & 1.5\\\\\n",
       "\t63 & 1 & 2.2 & 4.0 & 1.0\\\\\n",
       "\t64 & 1 & 2.9 & 4.7 & 1.4\\\\\n",
       "\t65 & 1 & 2.9 & 3.6 & 1.3\\\\\n",
       "\\end{tabular}\n"
      ],
      "text/markdown": [
       "\n",
       "A matrix: 15 × 4 of type dbl\n",
       "\n",
       "| <!--/--> | (Intercept) | sw | pl | pw |\n",
       "|---|---|---|---|---|\n",
       "| 51 | 1 | 3.2 | 4.7 | 1.4 |\n",
       "| 52 | 1 | 3.2 | 4.5 | 1.5 |\n",
       "| 53 | 1 | 3.1 | 4.9 | 1.5 |\n",
       "| 54 | 1 | 2.3 | 4.0 | 1.3 |\n",
       "| 55 | 1 | 2.8 | 4.6 | 1.5 |\n",
       "| 56 | 1 | 2.8 | 4.5 | 1.3 |\n",
       "| 57 | 1 | 3.3 | 4.7 | 1.6 |\n",
       "| 58 | 1 | 2.4 | 3.3 | 1.0 |\n",
       "| 59 | 1 | 2.9 | 4.6 | 1.3 |\n",
       "| 60 | 1 | 2.7 | 3.9 | 1.4 |\n",
       "| 61 | 1 | 2.0 | 3.5 | 1.0 |\n",
       "| 62 | 1 | 3.0 | 4.2 | 1.5 |\n",
       "| 63 | 1 | 2.2 | 4.0 | 1.0 |\n",
       "| 64 | 1 | 2.9 | 4.7 | 1.4 |\n",
       "| 65 | 1 | 2.9 | 3.6 | 1.3 |\n",
       "\n"
      ],
      "text/plain": [
       "   (Intercept) sw  pl  pw \n",
       "51 1           3.2 4.7 1.4\n",
       "52 1           3.2 4.5 1.5\n",
       "53 1           3.1 4.9 1.5\n",
       "54 1           2.3 4.0 1.3\n",
       "55 1           2.8 4.6 1.5\n",
       "56 1           2.8 4.5 1.3\n",
       "57 1           3.3 4.7 1.6\n",
       "58 1           2.4 3.3 1.0\n",
       "59 1           2.9 4.6 1.3\n",
       "60 1           2.7 3.9 1.4\n",
       "61 1           2.0 3.5 1.0\n",
       "62 1           3.0 4.2 1.5\n",
       "63 1           2.2 4.0 1.0\n",
       "64 1           2.9 4.7 1.4\n",
       "65 1           2.9 3.6 1.3"
      ]
     },
     "metadata": {},
     "output_type": "display_data"
    },
    {
     "data": {
      "text/html": [
       "<strong>sw:</strong> 4341.91298487185"
      ],
      "text/latex": [
       "\\textbf{sw:} 4341.91298487185"
      ],
      "text/markdown": [
       "**sw:** 4341.91298487185"
      ],
      "text/plain": [
       "      sw \n",
       "4341.913 "
      ]
     },
     "metadata": {},
     "output_type": "display_data"
    },
    {
     "data": {
      "text/html": [
       "<strong>pl:</strong> 0.000380301212584396"
      ],
      "text/latex": [
       "\\textbf{pl:} 0.000380301212584396"
      ],
      "text/markdown": [
       "**pl:** 0.000380301212584396"
      ],
      "text/plain": [
       "          pl \n",
       "0.0003803012 "
      ]
     },
     "metadata": {},
     "output_type": "display_data"
    },
    {
     "data": {
      "text/html": [
       "<strong>pw:</strong> 4.9345379891966e-10"
      ],
      "text/latex": [
       "\\textbf{pw:} 4.9345379891966e-10"
      ],
      "text/markdown": [
       "**pw:** 4.9345379891966e-10"
      ],
      "text/plain": [
       "          pw \n",
       "4.934538e-10 "
      ]
     },
     "metadata": {},
     "output_type": "display_data"
    }
   ],
   "source": [
    "# Check Odds Ratios for predictors in model2\n",
    "model.matrix(model2)[1:15, ]\n",
    "exp(coef(model2)[2])  # Odds Ratio for sw\n",
    "exp(coef(model2)[3])  # Odds Ratio for pl\n",
    "exp(coef(model2)[4])  # Odds Ratio for pw"
   ]
  },
  {
   "cell_type": "code",
   "execution_count": 34,
   "id": "f372588c-fbef-4bb8-882a-d0f842d6d876",
   "metadata": {
    "scrolled": true,
    "vscode": {
     "languageId": "r"
    }
   },
   "outputs": [
    {
     "data": {
      "text/plain": [
       "\n",
       "\tHosmer and Lemeshow goodness of fit (GOF) test\n",
       "\n",
       "data:  model2$y, fitted(model2)\n",
       "X-squared = 0.38054, df = 4, p-value = 0.984\n"
      ]
     },
     "metadata": {},
     "output_type": "display_data"
    }
   ],
   "source": [
    "# Goodness-of-Fit check using Hosmer-Lemeshow test\n",
    "hoslem.test(model2$y, fitted(model2), g = 6)  # Grouping into 6 bins\n",
    "# p-value = 0.984, indicating the model is very valid."
   ]
  },
  {
   "cell_type": "code",
   "execution_count": 36,
   "id": "314ffd94-4e27-4903-ae2c-84c7faa7b920",
   "metadata": {
    "scrolled": true,
    "vscode": {
     "languageId": "r"
    }
   },
   "outputs": [
    {
     "data": {
      "image/png": "[encoded data removed]",
      "text/plain": [
       "Plot with title “Residui vs Fitted Values”"
      ]
     },
     "metadata": {
      "image/png": {
       "height": 420,
       "width": 420
      }
     },
     "output_type": "display_data"
    }
   ],
   "source": [
    "# Plot dei residui\n",
    "plot(fitted(model2), residuals(model2), main = \"Residui vs Fitted Values\",\n",
    "     xlab = \"Valori Predetti\", ylab = \"Residui\")\n",
    "abline(h = 0, col = \"red\")"
   ]
  }
 ],
 "metadata": {
  "kernelspec": {
   "display_name": "R",
   "language": "R",
   "name": "ir"
  },
  "language_info": {
   "codemirror_mode": "r",
   "file_extension": ".r",
   "mimetype": "text/x-r-source",
   "name": "R",
   "pygments_lexer": "r",
   "version": "4.4.2"
  }
 },
 "nbformat": 4,
 "nbformat_minor": 5
}
