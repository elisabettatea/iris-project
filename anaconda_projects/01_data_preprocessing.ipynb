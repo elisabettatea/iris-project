{
 "cells": [
  {
   "cell_type": "code",
   "execution_count": null,
   "id": "cf5b31e4-f1fa-4845-909a-d995f166b8e6",
   "metadata": {},
   "outputs": [],
   "source": [
    "# Load the dataset from the data folder\n",
    "setwd(\"../data\")\n",
    "iris.data <- read.csv(\"iris.data.txt\", header = TRUE)"
   ]
  },
  {
   "cell_type": "code",
   "execution_count": null,
   "id": "1af21739-e21e-4bb7-b0d0-4543729c8da0",
   "metadata": {},
   "outputs": [],
   "source": [
    "# Initial data visualization\n",
    "head(iris.data)"
   ]
  },
  {
   "cell_type": "code",
   "execution_count": null,
   "id": "5a096281-a8bd-4310-a91b-daa5398f4b57",
   "metadata": {},
   "outputs": [],
   "source": [
    "summary(iris.data)"
   ]
  },
  {
   "cell_type": "code",
   "execution_count": null,
   "id": "d53b50a9-d746-45d2-94a3-590d6dd5e411",
   "metadata": {},
   "outputs": [],
   "source": [
    "str(iris.data)"
   ]
  },
  {
   "cell_type": "code",
   "execution_count": null,
   "id": "1509c756-c78c-4bb6-9ff9-568867ebea6f",
   "metadata": {},
   "outputs": [],
   "source": [
    "sum(is.na(iris.data)) # Check for missing values (no NAs found)"
   ]
  },
  {
   "cell_type": "code",
   "execution_count": null,
   "id": "f0e80de8-3331-48d1-8b05-7a75e2c6f2ef",
   "metadata": {},
   "outputs": [],
   "source": [
    "# Convert 'class' to numeric factor\n",
    "iris.data$class = as.factor(iris.data$class)\n",
    "iris.data$class = as.numeric(iris.data$class)\n",
    "boxplot(iris.data)"
   ]
  }
 ],
 "metadata": {
  "kernelspec": {
   "display_name": "R",
   "language": "R",
   "name": "ir"
  },
  "language_info": {
   "codemirror_mode": "r",
   "file_extension": ".r",
   "mimetype": "text/x-r-source",
   "name": "R",
   "pygments_lexer": "r",
   "version": "4.4.2"
  }
 },
 "nbformat": 4,
 "nbformat_minor": 5
}
