{
 "cells": [
  {
   "cell_type": "code",
   "execution_count": null,
   "id": "f8234f80-4937-4cc2-86ff-58b1a4a6504c",
   "metadata": {},
   "outputs": [],
   "source": [
    "# Load necessary libraries\n",
    "library(rms)\n",
    "library(ResourceSelection)"
   ]
  },
  {
   "cell_type": "code",
   "execution_count": null,
   "id": "0de7a8b5-dad8-4c8a-b8dd-1de1db4e6493",
   "metadata": {},
   "outputs": [],
   "source": [
    "# Load the dataset from the data folder\n",
    "setwd(\"../data\")\n",
    "iris.data <- read.csv(\"iris.data.txt\", header = TRUE)"
   ]
  },
  {
   "cell_type": "code",
   "execution_count": null,
   "id": "19ac3351-75b0-438f-a7e6-47670403f0bb",
   "metadata": {},
   "outputs": [],
   "source": [
    "# Filter out the \"Iris-setosa\" class to create a binary classification problem\n",
    "iris.datalog <- iris.data[iris.data$class != \"Iris-setosa\", ]"
   ]
  },
  {
   "cell_type": "code",
   "execution_count": null,
   "id": "be26a7c1-c23c-4e7e-9c25-a6dcc9eb4bd1",
   "metadata": {},
   "outputs": [],
   "source": [
    "# Rename variables for clarity\n",
    "names(iris.datalog)[names(iris.datalog) == \"sepalenght\"] <- \"sl\"\n",
    "names(iris.datalog)[names(iris.datalog) == \"petalenght\"] <- \"pl\"\n",
    "names(iris.datalog)[names(iris.datalog) == \"sepalwidth\"] <- \"sw\"\n",
    "names(iris.datalog)[names(iris.datalog) == \"petalwidth\"] <- \"pw\""
   ]
  },
  {
   "cell_type": "code",
   "execution_count": null,
   "id": "df370371-bc59-4408-bfb8-94e9f24025ce",
   "metadata": {},
   "outputs": [],
   "source": [
    "# Transform the 'class' variable into a binary variable\n",
    "# 1 for \"Iris-versicolor\", 0 for other classes\n",
    "iris.datalog$class_binaria <- ifelse(iris.datalog$class == \"Iris-versicolor\", 1, 0)"
   ]
  },
  {
   "cell_type": "code",
   "execution_count": null,
   "id": "6837daf1-797c-47a0-bbf9-49e3ee4b9d55",
   "metadata": {},
   "outputs": [],
   "source": [
    "# Preview the updated dataset\n",
    "head(iris.datalog)\n",
    "str(iris.datalog)"
   ]
  },
  {
   "cell_type": "code",
   "execution_count": null,
   "id": "5a3ea0b4-3693-49f5-b6e1-6e36e2d94e90",
   "metadata": {},
   "outputs": [],
   "source": [
    "# Remove the original 'class' variable since the binary variable is sufficient\n",
    "iris.datalog <- iris.datalog[,-5]"
   ]
  },
  {
   "cell_type": "code",
   "execution_count": null,
   "id": "6eca3813-1928-4c33-bafb-1a5e77370657",
   "metadata": {},
   "outputs": [],
   "source": [
    "# Split the dataset into training and testing sets\n",
    "set.seed(42)  # Set seed for reproducibility\n",
    "train_indices <- sample(1:nrow(iris.datalog), nrow(iris.datalog) * 0.7)  # 70% training set\n",
    "train_data <- iris.datalog[train_indices, ]\n",
    "test_data <- iris.datalog[-train_indices, ]"
   ]
  },
  {
   "cell_type": "code",
   "execution_count": null,
   "id": "648b345e-c1df-45a4-b314-a32a7e4bfc48",
   "metadata": {},
   "outputs": [],
   "source": [
    "# Fit a logistic regression model with all predictors\n",
    "model <- glm(class_binaria ~ sl + sw + pl + pw, data = iris.datalog, family = \"binomial\")\n",
    "summary(model)\n",
    "# Results: AIC = 21.899, NULL DEVIANCE = 138.629, RESIDUAL DEVIANCE = 11.899"
   ]
  },
  {
   "cell_type": "code",
   "execution_count": null,
   "id": "2155883e-bb1c-4fdb-990f-6bca0c5c5869",
   "metadata": {},
   "outputs": [],
   "source": [
    "# Fit a refined logistic regression model with selected predictors\n",
    "model2 <- glm(class_binaria ~ sw + pl + pw, data = iris.datalog, family = \"binomial\")\n",
    "summary(model2)\n",
    "# Results: AIC = 21.266, NULL DEVIANCE = 138.629, RESIDUAL DEVIANCE = 13.266 (improvement)"
   ]
  },
  {
   "cell_type": "code",
   "execution_count": null,
   "id": "20d14010-66bd-4918-9f4e-9456d61d6846",
   "metadata": {},
   "outputs": [],
   "source": [
    "# Compare models using ANOVA\n",
    "anova(model2, model, test = \"Chisq\")"
   ]
  },
  {
   "cell_type": "code",
   "execution_count": null,
   "id": "1027ef67-f985-435c-afd9-36f0f0f48100",
   "metadata": {},
   "outputs": [],
   "source": [
    "# Check Odds Ratios for predictors in model2\n",
    "model.matrix(model2)[1:15, ]\n",
    "exp(coef(model2)[2])  # Odds Ratio for sw\n",
    "exp(coef(model2)[3])  # Odds Ratio for pl\n",
    "exp(coef(model2)[4])  # Odds Ratio for pw"
   ]
  },
  {
   "cell_type": "code",
   "execution_count": null,
   "id": "f372588c-fbef-4bb8-882a-d0f842d6d876",
   "metadata": {
    "scrolled": true
   },
   "outputs": [],
   "source": [
    "# Goodness-of-Fit check using Hosmer-Lemeshow test\n",
    "hoslem.test(model2$y, fitted(model2), g = 6)  # Grouping into 6 bins\n",
    "# p-value = 0.984, indicating the model is very valid."
   ]
  },
  {
   "cell_type": "code",
   "execution_count": null,
   "id": "314ffd94-4e27-4903-ae2c-84c7faa7b920",
   "metadata": {
    "scrolled": true
   },
   "outputs": [
    {
     "ename": "ERROR",
     "evalue": "Error in hoslem.test(model2$y, fitted(model2), g = 6): non trovo la funzione \"hoslem.test\"\n",
     "output_type": "error",
     "traceback": [
      "Error in hoslem.test(model2$y, fitted(model2), g = 6): non trovo la funzione \"hoslem.test\"\nTraceback:\n"
     ]
    }
   ],
   "source": [
    "# Plot dei residui\n",
    "plot(fitted(model2), residuals(model2), main = \"Residui vs Fitted Values\",\n",
    "     xlab = \"Valori Predetti\", ylab = \"Residui\")\n",
    "abline(h = 0, col = \"red\")"
   ]
  }
 ],
 "metadata": {
  "kernelspec": {
   "display_name": "R",
   "language": "R",
   "name": "ir"
  },
  "language_info": {
   "codemirror_mode": "r",
   "file_extension": ".r",
   "mimetype": "text/x-r-source",
   "name": "R",
   "pygments_lexer": "r",
   "version": "4.4.2"
  }
 },
 "nbformat": 4,
 "nbformat_minor": 5
}
