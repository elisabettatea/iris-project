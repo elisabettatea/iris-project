{
 "cells": [
  {
   "cell_type": "code",
   "execution_count": 2,
   "id": "c0bd2855-d0a2-496f-8397-c1a034ddc88b",
   "metadata": {
    "vscode": {
     "languageId": "r"
    }
   },
   "outputs": [],
   "source": [
    "# Load the dataset from the data folder\n",
    "setwd(\"../data\")\n",
    "iris.data <- read.csv(\"iris.data.txt\", header = TRUE)"
   ]
  },
  {
   "cell_type": "code",
   "execution_count": 4,
   "id": "9b957f81-383d-45c4-9447-fb305864c482",
   "metadata": {
    "vscode": {
     "languageId": "r"
    }
   },
   "outputs": [],
   "source": [
    "# Rename variables for simplicity\n",
    "names(iris.data)[names(iris.data) == \"sepalenght\"] <- \"sl\"\n",
    "names(iris.data)[names(iris.data) == \"petalenght\"] <- \"pl\"\n",
    "names(iris.data)[names(iris.data) == \"sepalwidth\"] <- \"sw\"\n",
    "names(iris.data)[names(iris.data) == \"petalwidth\"] <- \"pw\""
   ]
  },
  {
   "cell_type": "code",
   "execution_count": 6,
   "id": "4f0ca239-2718-4911-a38f-101f76e068f0",
   "metadata": {
    "vscode": {
     "languageId": "r"
    }
   },
   "outputs": [],
   "source": [
    "# Convert 'class' to numeric factor\n",
    "iris.data$class = as.factor(iris.data$class)\n",
    "iris.data$class = as.numeric(iris.data$class)"
   ]
  },
  {
   "cell_type": "code",
   "execution_count": 8,
   "id": "41e7ad1c-f069-4867-8786-9896f2357f03",
   "metadata": {
    "vscode": {
     "languageId": "r"
    }
   },
   "outputs": [
    {
     "data": {
      "text/plain": [
       "\n",
       "Call:\n",
       "lm(formula = class ~ ., data = iris.data)\n",
       "\n",
       "Residuals:\n",
       "     Min       1Q   Median       3Q      Max \n",
       "-0.59046 -0.15230  0.01338  0.10332  0.55061 \n",
       "\n",
       "Coefficients:\n",
       "            Estimate Std. Error t value Pr(>|t|)    \n",
       "(Intercept)  1.19208    0.20470   5.824 3.57e-08 ***\n",
       "sl          -0.10974    0.05776  -1.900 0.059418 .  \n",
       "sw          -0.04424    0.05996  -0.738 0.461832    \n",
       "pl           0.22700    0.05699   3.983 0.000107 ***\n",
       "pw           0.60989    0.09447   6.456 1.52e-09 ***\n",
       "---\n",
       "Signif. codes:  0 ‘***’ 0.001 ‘**’ 0.01 ‘*’ 0.05 ‘.’ 0.1 ‘ ’ 1\n",
       "\n",
       "Residual standard error: 0.2191 on 145 degrees of freedom\n",
       "Multiple R-squared:  0.9304,\tAdjusted R-squared:  0.9285 \n",
       "F-statistic: 484.8 on 4 and 145 DF,  p-value: < 2.2e-16\n"
      ]
     },
     "metadata": {},
     "output_type": "display_data"
    }
   ],
   "source": [
    "# Fit first linear model\n",
    "m1 = lm(class ~ ., data = iris.data)\n",
    "summary(m1)"
   ]
  },
  {
   "cell_type": "code",
   "execution_count": null,
   "id": "c4a9abc5-6b0f-4677-a3ee-71a4f235b105",
   "metadata": {
    "vscode": {
     "languageId": "r"
    }
   },
   "outputs": [],
   "source": [
    "shapiro.test(residuals(m1))\n",
    "# R2 = 0.9285, p-value = 0.4589"
   ]
  },
  {
   "cell_type": "code",
   "execution_count": null,
   "id": "a8bc90de-9327-4695-8858-065bf559e3c7",
   "metadata": {
    "vscode": {
     "languageId": "r"
    }
   },
   "outputs": [],
   "source": [
    "# Add interaction terms to improve R2\n",
    "m2 = lm(class ~ . + sl*sw + pl*pw, data = iris.data)\n",
    "summary(m2)"
   ]
  },
  {
   "cell_type": "code",
   "execution_count": null,
   "id": "9e3936e3-e544-44fb-8650-ea79e45968e9",
   "metadata": {
    "vscode": {
     "languageId": "r"
    }
   },
   "outputs": [],
   "source": [
    "shapiro.test(residuals(m2))"
   ]
  },
  {
   "cell_type": "code",
   "execution_count": null,
   "id": "b85de9fe-114d-4900-b038-4625c71e260c",
   "metadata": {
    "vscode": {
     "languageId": "r"
    }
   },
   "outputs": [],
   "source": [
    "qqnorm(m2$residuals)\n",
    "qqline(m2$residuals, col = 'pink') # Tails are quite distant\n",
    "# R2 = 0.9343, p-value = 0.105"
   ]
  },
  {
   "cell_type": "code",
   "execution_count": null,
   "id": "00c23da6-f6bb-45a0-ad2d-47cee9957967",
   "metadata": {
    "vscode": {
     "languageId": "r"
    }
   },
   "outputs": [],
   "source": [
    "# Analyze influential points in m2\n",
    "\n",
    "# Plot residuals\n",
    "plot(m2$res, ylab = \"Residuals\", main = \"Plot of residuals\")\n",
    "sort(m2$res)\n",
    "sort(m2$res)[c(1, 50)]  # Check the first and last residual"
   ]
  },
  {
   "cell_type": "code",
   "execution_count": null,
   "id": "f1b467ed-bf0f-409b-b8e2-b6cc39da30a8",
   "metadata": {
    "vscode": {
     "languageId": "r"
    }
   },
   "outputs": [],
   "source": [
    "# 1. Leverage points (R2 = 0.9464, p-value = 7.6e-05)\n",
    "r = m2$rank\n",
    "p = 4\n",
    "n = dim(iris.data)[1]\n",
    "lev = hatvalues(m2)\n",
    "watchout_points_lev = lev[which(lev > 2 * r / n)]\n",
    "watchout_ids_lev = seq_along(lev)[which(lev > 2 * r / n)]\n",
    "\n",
    "# Fit model without leverage points\n",
    "id_to_keep = !(1:n %in% watchout_ids_lev)\n",
    "m3 = lm(class ~ . + sl*pl + sl*sw + sl*pw + pl*sw + pl*pw + sw*pw, iris.data[id_to_keep, ])\n",
    "summary(m3)\n",
    "shapiro.test(residuals(m3))"
   ]
  },
  {
   "cell_type": "code",
   "execution_count": null,
   "id": "ec810544-e68b-4532-8952-1ef6a88592e8",
   "metadata": {
    "vscode": {
     "languageId": "r"
    }
   },
   "outputs": [],
   "source": [
    "# 2. Cook's distance\n",
    "Cdist = cooks.distance(m2)\n",
    "watchout_ids_Cdist = which(Cdist > 4 / (n - p - 1))\n",
    "watchout_Cdist = Cdist[watchout_ids_Cdist]\n",
    "\n",
    "# Fit model without Cook's distance leverage points\n",
    "id_to_keep = !(1:n %in% watchout_ids_Cdist)\n",
    "m4 = lm(class ~ . + sl*pl + sl*sw + sl*pw + pl*sw + pl*pw + sw*pw, iris.data[id_to_keep, ])\n",
    "summary(m4)\n",
    "shapiro.test(residuals(m4))"
   ]
  },
  {
   "cell_type": "code",
   "execution_count": null,
   "id": "7f01e83c-aa57-4961-86bb-29c97c3e7786",
   "metadata": {
    "vscode": {
     "languageId": "r"
    }
   },
   "outputs": [],
   "source": [
    "# 3. Standardized residuals\n",
    "res_std = m2$res / summary(m2)$sigma\n",
    "watchout_ids_rstd = which(abs(res_std) > 2)\n",
    "\n",
    "# Fit model without standardized residuals\n",
    "id_to_keep = !(1:n %in% watchout_ids_rstd)\n",
    "m5 = lm(class ~ . + sl*pl + sl*sw + sl*pw + pl*sw + pl*pw + sw*pw, iris.data[id_to_keep, ])\n",
    "summary(m5)\n",
    "shapiro.test(residuals(m5))"
   ]
  },
  {
   "cell_type": "code",
   "execution_count": null,
   "id": "cb32c493-d6ba-4f55-860a-89b6469c1820",
   "metadata": {
    "vscode": {
     "languageId": "r"
    }
   },
   "outputs": [],
   "source": [
    "# 4. Studentized residuals\n",
    "stud = rstandard(m2)\n",
    "watchout_ids_stud = which(abs(stud) > 2)\n",
    "\n",
    "# Fit model without studentized residuals\n",
    "id_to_keep = !(1:n %in% watchout_ids_stud)\n",
    "m6 = lm(class ~ . + sl*pl + sl*sw + sl*pw + pl*sw + pl*pw + sw*pw, iris.data[id_to_keep, ])\n",
    "summary(m6)\n",
    "shapiro.test(residuals(m6))"
   ]
  },
  {
   "cell_type": "code",
   "execution_count": null,
   "id": "fc873b3b-442c-4267-8f02-d5f0b0ba18a9",
   "metadata": {
    "vscode": {
     "languageId": "r"
    }
   },
   "outputs": [],
   "source": [
    "# Model comparison\n",
    "# Chosen model: m5 with standardized residuals (R2 = 0.9678, p-value = 0.08855)\n",
    "\n",
    "qqnorm(m5$residuals)\n",
    "qqline(m5$residuals, col = 'blue') # Tails are less distant"
   ]
  },
  {
   "cell_type": "code",
   "execution_count": null,
   "id": "b3826d9a-5775-48a5-81aa-7bb33a340666",
   "metadata": {
    "vscode": {
     "languageId": "r"
    }
   },
   "outputs": [],
   "source": [
    "# Plot standardized residuals (needs correction)\n",
    "res_std <- rstandard(m5) \n",
    "plot(m5$fitted.values, res_std, ylab = \"Standardized Residuals\", main = \"Standardized Residuals\")\n",
    "abline(h = c(-2, 2), lty = 2, col = 'orange')\n",
    "points(m5$fitted.values[watchout_ids_rstd], \n",
    "       res_std[watchout_ids_rstd], col = 'red', pch = 16)\n",
    "points(m5$fitted.values[watchout_ids_lev], \n",
    "       res_std[watchout_ids_lev], col = 'orange', pch = 16)\n",
    "legend('topright', col = c('red', 'orange'), \n",
    "       legend = c('Standardized Residuals', 'Leverages'), pch = rep(16, 2), bty = 'n')"
   ]
  },
  {
   "cell_type": "code",
   "execution_count": null,
   "id": "7fe8b7db-a537-41e8-90a0-71722cdb4397",
   "metadata": {
    "vscode": {
     "languageId": "r"
    }
   },
   "outputs": [],
   "source": [
    "# Stepwise covariate selection\n",
    "m5 = lm(class ~ . + sl*pl + sl*sw + sl*pw + pl*sw + pl*pw + sw*pw, iris.data[id_to_keep, ])\n",
    "summary(m5)\n",
    "shapiro.test(residuals(m5))"
   ]
  },
  {
   "cell_type": "code",
   "execution_count": null,
   "id": "3efbbf7b-3e8b-4f5e-b4e9-f7a2d0444676",
   "metadata": {
    "vscode": {
     "languageId": "r"
    }
   },
   "outputs": [],
   "source": [
    "step(m5, direction = \"both\", trace = TRUE)\n",
    "m7 = lm(formula = class ~ sl + sw + pl + pw + sl:sw + pl:pw + sw:pw, \n",
    "        data = iris.data[id_to_keep, ])\n",
    "summary(m7)\n",
    "shapiro.test(residuals(m7))"
   ]
  },
  {
   "cell_type": "code",
   "execution_count": null,
   "id": "5778ab63-5328-4607-9bde-0fc06c71a1f5",
   "metadata": {
    "vscode": {
     "languageId": "r"
    }
   },
   "outputs": [],
   "source": [
    "# After stepwise selection: R2 = 0.9685, p-value = 0.1171\n",
    "\n",
    "# Manually remove 'pw' (as it has the largest estimate)\n",
    "m8 = lm(formula = class ~ sl + sw + pl + sl:sw + pl:pw + sw:pw, \n",
    "        data = iris.data[id_to_keep, ])\n",
    "summary(m8)\n",
    "shapiro.test(residuals(m8))\n",
    "# Final model: R2 = 0.959, p-value = 0.4222 (indicating normality of residuals)."
   ]
  },
  {
   "cell_type": "code",
   "execution_count": null,
   "id": "a5499a9e-0a0d-4973-8f34-1e13819870d2",
   "metadata": {
    "vscode": {
     "languageId": "r"
    }
   },
   "outputs": [],
   "source": [
    "# Q-Q plot for residuals\n",
    "qqnorm(m8$residuals)\n",
    "qqline(m8$residuals, col = 'violet')\n",
    "\n",
    "# The model has reached a very good level (good fit)."
   ]
  }
 ],
 "metadata": {
  "kernelspec": {
   "display_name": "R",
   "language": "R",
   "name": "ir"
  },
  "language_info": {
   "codemirror_mode": "r",
   "file_extension": ".r",
   "mimetype": "text/x-r-source",
   "name": "R",
   "pygments_lexer": "r",
   "version": "4.4.2"
  }
 },
 "nbformat": 4,
 "nbformat_minor": 5
}
