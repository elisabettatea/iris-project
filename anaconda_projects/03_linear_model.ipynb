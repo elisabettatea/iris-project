{
 "cells": [
  {
   "cell_type": "code",
   "execution_count": 4,
   "id": "c0bd2855-d0a2-496f-8397-c1a034ddc88b",
   "metadata": {
    "vscode": {
     "languageId": "r"
    }
   },
   "outputs": [],
   "source": [
    "# Load the dataset from the data folder\n",
    "setwd(\"../data\")\n",
    "iris.data <- read.csv(\"iris.data.txt\", header = TRUE)"
   ]
  },
  {
   "cell_type": "code",
   "execution_count": 6,
   "id": "9b957f81-383d-45c4-9447-fb305864c482",
   "metadata": {
    "vscode": {
     "languageId": "r"
    }
   },
   "outputs": [],
   "source": [
    "# Rename variables for simplicity\n",
    "names(iris.data)[names(iris.data) == \"sepalenght\"] <- \"sl\"\n",
    "names(iris.data)[names(iris.data) == \"petalenght\"] <- \"pl\"\n",
    "names(iris.data)[names(iris.data) == \"sepalwidth\"] <- \"sw\"\n",
    "names(iris.data)[names(iris.data) == \"petalwidth\"] <- \"pw\""
   ]
  },
  {
   "cell_type": "code",
   "execution_count": 8,
   "id": "4f0ca239-2718-4911-a38f-101f76e068f0",
   "metadata": {
    "vscode": {
     "languageId": "r"
    }
   },
   "outputs": [],
   "source": [
    "# Convert 'class' to numeric factor\n",
    "iris.data$class = as.factor(iris.data$class)\n",
    "iris.data$class = as.numeric(iris.data$class)"
   ]
  },
  {
   "cell_type": "code",
   "execution_count": 10,
   "id": "41e7ad1c-f069-4867-8786-9896f2357f03",
   "metadata": {
    "vscode": {
     "languageId": "r"
    }
   },
   "outputs": [
    {
     "data": {
      "text/plain": [
       "\n",
       "Call:\n",
       "lm(formula = class ~ ., data = iris.data)\n",
       "\n",
       "Residuals:\n",
       "     Min       1Q   Median       3Q      Max \n",
       "-0.59046 -0.15230  0.01338  0.10332  0.55061 \n",
       "\n",
       "Coefficients:\n",
       "            Estimate Std. Error t value Pr(>|t|)    \n",
       "(Intercept)  1.19208    0.20470   5.824 3.57e-08 ***\n",
       "sl          -0.10974    0.05776  -1.900 0.059418 .  \n",
       "sw          -0.04424    0.05996  -0.738 0.461832    \n",
       "pl           0.22700    0.05699   3.983 0.000107 ***\n",
       "pw           0.60989    0.09447   6.456 1.52e-09 ***\n",
       "---\n",
       "Signif. codes:  0 ‘***’ 0.001 ‘**’ 0.01 ‘*’ 0.05 ‘.’ 0.1 ‘ ’ 1\n",
       "\n",
       "Residual standard error: 0.2191 on 145 degrees of freedom\n",
       "Multiple R-squared:  0.9304,\tAdjusted R-squared:  0.9285 \n",
       "F-statistic: 484.8 on 4 and 145 DF,  p-value: < 2.2e-16\n"
      ]
     },
     "metadata": {},
     "output_type": "display_data"
    }
   ],
   "source": [
    "# Fit first linear model\n",
    "m1 = lm(class ~ ., data = iris.data)\n",
    "summary(m1)"
   ]
  },
  {
   "cell_type": "code",
   "execution_count": null,
   "id": "c4a9abc5-6b0f-4677-a3ee-71a4f235b105",
   "metadata": {
    "vscode": {
     "languageId": "r"
    }
   },
   "outputs": [],
   "source": [
    "shapiro.test(residuals(m1))\n",
    "# R2 = 0.9285, p-value = 0.4589"
   ]
  },
  {
   "cell_type": "code",
   "execution_count": 12,
   "id": "a8bc90de-9327-4695-8858-065bf559e3c7",
   "metadata": {
    "vscode": {
     "languageId": "r"
    }
   },
   "outputs": [
    {
     "data": {
      "text/plain": [
       "\n",
       "Call:\n",
       "lm(formula = class ~ . + sl * sw + pl * pw, data = iris.data)\n",
       "\n",
       "Residuals:\n",
       "     Min       1Q   Median       3Q      Max \n",
       "-0.55036 -0.11915 -0.00777  0.11794  0.56971 \n",
       "\n",
       "Coefficients:\n",
       "            Estimate Std. Error t value Pr(>|t|)    \n",
       "(Intercept)  1.54327    1.04585   1.476 0.142246    \n",
       "sl          -0.10167    0.18033  -0.564 0.573786    \n",
       "sw          -0.04040    0.34467  -0.117 0.906865    \n",
       "pl           0.17910    0.05618   3.188 0.001758 ** \n",
       "pw           0.21188    0.13803   1.535 0.126989    \n",
       "sl:sw       -0.01416    0.05855  -0.242 0.809199    \n",
       "pl:pw        0.08617    0.02241   3.845 0.000181 ***\n",
       "---\n",
       "Signif. codes:  0 ‘***’ 0.001 ‘**’ 0.01 ‘*’ 0.05 ‘.’ 0.1 ‘ ’ 1\n",
       "\n",
       "Residual standard error: 0.2099 on 143 degrees of freedom\n",
       "Multiple R-squared:  0.937,\tAdjusted R-squared:  0.9343 \n",
       "F-statistic: 354.3 on 6 and 143 DF,  p-value: < 2.2e-16\n"
      ]
     },
     "metadata": {},
     "output_type": "display_data"
    }
   ],
   "source": [
    "# Add interaction terms to improve R2\n",
    "m2 = lm(class ~ . + sl*sw + pl*pw, data = iris.data)\n",
    "summary(m2)"
   ]
  },
  {
   "cell_type": "code",
   "execution_count": null,
   "id": "9e3936e3-e544-44fb-8650-ea79e45968e9",
   "metadata": {
    "vscode": {
     "languageId": "r"
    }
   },
   "outputs": [],
   "source": [
    "shapiro.test(residuals(m2))"
   ]
  },
  {
   "cell_type": "code",
   "execution_count": null,
   "id": "b85de9fe-114d-4900-b038-4625c71e260c",
   "metadata": {
    "vscode": {
     "languageId": "r"
    }
   },
   "outputs": [],
   "source": [
    "qqnorm(m2$residuals)\n",
    "qqline(m2$residuals, col = 'pink') # Tails are quite distant\n",
    "# R2 = 0.9343, p-value = 0.105"
   ]
  },
  {
   "cell_type": "code",
   "execution_count": null,
   "id": "00c23da6-f6bb-45a0-ad2d-47cee9957967",
   "metadata": {
    "vscode": {
     "languageId": "r"
    }
   },
   "outputs": [],
   "source": [
    "# Analyze influential points in m2\n",
    "\n",
    "# Plot residuals\n",
    "plot(m2$res, ylab = \"Residuals\", main = \"Plot of residuals\")\n",
    "sort(m2$res)\n",
    "sort(m2$res)[c(1, 50)]  # Check the first and last residual"
   ]
  },
  {
   "cell_type": "code",
   "execution_count": 16,
   "id": "f1b467ed-bf0f-409b-b8e2-b6cc39da30a8",
   "metadata": {
    "vscode": {
     "languageId": "r"
    }
   },
   "outputs": [
    {
     "data": {
      "text/plain": [
       "\n",
       "Call:\n",
       "lm(formula = class ~ . + sl * pl + sl * sw + sl * pw + pl * sw + \n",
       "    pl * pw + sw * pw, data = iris.data[id_to_keep, ])\n",
       "\n",
       "Residuals:\n",
       "     Min       1Q   Median       3Q      Max \n",
       "-0.59122 -0.09450  0.00592  0.06546  0.58213 \n",
       "\n",
       "Coefficients:\n",
       "            Estimate Std. Error t value Pr(>|t|)   \n",
       "(Intercept)  5.78579    2.09196   2.766  0.00651 **\n",
       "sl          -1.03868    0.45991  -2.258  0.02558 * \n",
       "sw          -1.38772    0.62276  -2.228  0.02758 * \n",
       "pl          -0.04118    0.52246  -0.079  0.93730   \n",
       "pw           1.81691    1.14235   1.591  0.11415   \n",
       "sl:pl        0.04358    0.05143   0.847  0.39841   \n",
       "sl:sw        0.29290    0.13093   2.237  0.02698 * \n",
       "sl:pw       -0.10722    0.14163  -0.757  0.45037   \n",
       "sw:pl       -0.03591    0.12999  -0.276  0.78281   \n",
       "pl:pw        0.14288    0.04510   3.168  0.00191 **\n",
       "sw:pw       -0.37807    0.26821  -1.410  0.16106   \n",
       "---\n",
       "Signif. codes:  0 ‘***’ 0.001 ‘**’ 0.01 ‘*’ 0.05 ‘.’ 0.1 ‘ ’ 1\n",
       "\n",
       "Residual standard error: 0.1909 on 130 degrees of freedom\n",
       "Multiple R-squared:  0.9485,\tAdjusted R-squared:  0.9445 \n",
       "F-statistic: 239.3 on 10 and 130 DF,  p-value: < 2.2e-16\n"
      ]
     },
     "metadata": {},
     "output_type": "display_data"
    },
    {
     "data": {
      "text/plain": [
       "\n",
       "\tShapiro-Wilk normality test\n",
       "\n",
       "data:  residuals(m3)\n",
       "W = 0.95735, p-value = 0.0002322\n"
      ]
     },
     "metadata": {},
     "output_type": "display_data"
    }
   ],
   "source": [
    "# 1. Leverage points (R2 = 0.9464, p-value = 7.6e-05)\n",
    "r = m2$rank\n",
    "p = 4\n",
    "n = dim(iris.data)[1]\n",
    "lev = hatvalues(m2)\n",
    "watchout_points_lev = lev[which(lev > 2 * r / n)]\n",
    "watchout_ids_lev = seq_along(lev)[which(lev > 2 * r / n)]\n",
    "\n",
    "# Fit model without leverage points\n",
    "id_to_keep = !(1:n %in% watchout_ids_lev)\n",
    "m3 = lm(class ~ . + sl*pl + sl*sw + sl*pw + pl*sw + pl*pw + sw*pw, iris.data[id_to_keep, ])\n",
    "summary(m3)\n",
    "shapiro.test(residuals(m3))"
   ]
  },
  {
   "cell_type": "code",
   "execution_count": 18,
   "id": "ec810544-e68b-4532-8952-1ef6a88592e8",
   "metadata": {
    "vscode": {
     "languageId": "r"
    }
   },
   "outputs": [
    {
     "data": {
      "text/plain": [
       "\n",
       "Call:\n",
       "lm(formula = class ~ . + sl * pl + sl * sw + sl * pw + pl * sw + \n",
       "    pl * pw + sw * pw, data = iris.data[id_to_keep, ])\n",
       "\n",
       "Residuals:\n",
       "     Min       1Q   Median       3Q      Max \n",
       "-0.55262 -0.09506  0.00340  0.06794  0.46329 \n",
       "\n",
       "Coefficients:\n",
       "             Estimate Std. Error t value Pr(>|t|)    \n",
       "(Intercept)  2.852972   1.406696   2.028 0.044621 *  \n",
       "sl          -0.323208   0.315323  -1.025 0.307292    \n",
       "sw          -0.659186   0.415044  -1.588 0.114701    \n",
       "pl          -0.218443   0.412644  -0.529 0.597463    \n",
       "pw           1.988054   0.934703   2.127 0.035344 *  \n",
       "sl:pl       -0.002298   0.042642  -0.054 0.957114    \n",
       "sl:sw        0.110829   0.086700   1.278 0.203456    \n",
       "sl:pw       -0.082269   0.122280  -0.673 0.502292    \n",
       "sw:pl        0.082899   0.099617   0.832 0.406857    \n",
       "pl:pw        0.164859   0.041143   4.007 0.000104 ***\n",
       "sw:pw       -0.479223   0.222030  -2.158 0.032765 *  \n",
       "---\n",
       "Signif. codes:  0 ‘***’ 0.001 ‘**’ 0.01 ‘*’ 0.05 ‘.’ 0.1 ‘ ’ 1\n",
       "\n",
       "Residual standard error: 0.1668 on 128 degrees of freedom\n",
       "Multiple R-squared:  0.9607,\tAdjusted R-squared:  0.9576 \n",
       "F-statistic: 312.8 on 10 and 128 DF,  p-value: < 2.2e-16\n"
      ]
     },
     "metadata": {},
     "output_type": "display_data"
    },
    {
     "data": {
      "text/plain": [
       "\n",
       "\tShapiro-Wilk normality test\n",
       "\n",
       "data:  residuals(m4)\n",
       "W = 0.95354, p-value = 0.0001245\n"
      ]
     },
     "metadata": {},
     "output_type": "display_data"
    }
   ],
   "source": [
    "# 2. Cook's distance\n",
    "Cdist = cooks.distance(m2)\n",
    "watchout_ids_Cdist = which(Cdist > 4 / (n - p - 1))\n",
    "watchout_Cdist = Cdist[watchout_ids_Cdist]\n",
    "\n",
    "# Fit model without Cook's distance leverage points\n",
    "id_to_keep = !(1:n %in% watchout_ids_Cdist)\n",
    "m4 = lm(class ~ . + sl*pl + sl*sw + sl*pw + pl*sw + pl*pw + sw*pw, iris.data[id_to_keep, ])\n",
    "summary(m4)\n",
    "shapiro.test(residuals(m4))"
   ]
  },
  {
   "cell_type": "code",
   "execution_count": 20,
   "id": "4d6ca417-43c5-49da-9092-43c7931a2ed1",
   "metadata": {
    "vscode": {
     "languageId": "r"
    }
   },
   "outputs": [
    {
     "data": {
      "text/plain": [
       "\n",
       "Call:\n",
       "lm(formula = class ~ . + sl * pl + sl * sw + sl * pw + pl * sw + \n",
       "    pl * pw + sw * pw, data = iris.data[id_to_keep, ])\n",
       "\n",
       "Residuals:\n",
       "     Min       1Q   Median       3Q      Max \n",
       "-0.39294 -0.08345  0.00182  0.07012  0.39567 \n",
       "\n",
       "Coefficients:\n",
       "             Estimate Std. Error t value Pr(>|t|)    \n",
       "(Intercept)  4.391816   1.019102   4.309 3.25e-05 ***\n",
       "sl          -0.759441   0.245707  -3.091 0.002453 ** \n",
       "sw          -1.042821   0.307347  -3.393 0.000922 ***\n",
       "pl           0.083382   0.342548   0.243 0.808076    \n",
       "pw           1.490784   0.771482   1.932 0.055541 .  \n",
       "sl:pl       -0.002264   0.035459  -0.064 0.949190    \n",
       "sl:sw        0.219537   0.067909   3.233 0.001562 ** \n",
       "sl:pw       -0.021470   0.101955  -0.211 0.833555    \n",
       "sw:pl        0.014228   0.086222   0.165 0.869197    \n",
       "pl:pw        0.137373   0.033514   4.099 7.35e-05 ***\n",
       "sw:pw       -0.432271   0.187680  -2.303 0.022891 *  \n",
       "---\n",
       "Signif. codes:  0 ‘***’ 0.001 ‘**’ 0.01 ‘*’ 0.05 ‘.’ 0.1 ‘ ’ 1\n",
       "\n",
       "Residual standard error: 0.1458 on 127 degrees of freedom\n",
       "Multiple R-squared:  0.9701,\tAdjusted R-squared:  0.9678 \n",
       "F-statistic: 412.6 on 10 and 127 DF,  p-value: < 2.2e-16\n"
      ]
     },
     "metadata": {},
     "output_type": "display_data"
    },
    {
     "data": {
      "text/plain": [
       "\n",
       "\tShapiro-Wilk normality test\n",
       "\n",
       "data:  residuals(m5)\n",
       "W = 0.98322, p-value = 0.08855\n"
      ]
     },
     "metadata": {},
     "output_type": "display_data"
    }
   ],
   "source": [
    "# 3. Standardized residuals\n",
    "res_std = m2$res / summary(m2)$sigma\n",
    "watchout_ids_rstd = which(abs(res_std) > 2)\n",
    "\n",
    "# Fit model without standardized residuals\n",
    "id_to_keep = !(1:n %in% watchout_ids_rstd)\n",
    "m5 = lm(class ~ . + sl*pl + sl*sw + sl*pw + pl*sw + pl*pw + sw*pw, iris.data[id_to_keep, ])\n",
    "summary(m5)\n",
    "shapiro.test(residuals(m5))"
   ]
  },
  {
   "cell_type": "code",
   "execution_count": null,
   "id": "928651db-feb2-4e28-be93-5bc616f02b8c",
   "metadata": {
    "vscode": {
     "languageId": "r"
    }
   },
   "outputs": [],
   "source": [
    "# 4. Studentized residuals\n",
    "stud = rstandard(m2)\n",
    "watchout_ids_stud = which(abs(stud) > 2)\n",
    "\n",
    "# Fit model without studentized residuals\n",
    "id_to_keep = !(1:n %in% watchout_ids_stud)\n",
    "m6 = lm(class ~ . + sl*pl + sl*sw + sl*pw + pl*sw + pl*pw + sw*pw, iris.data[id_to_keep, ])\n",
    "summary(m6)\n",
    "shapiro.test(residuals(m6))"
   ]
  },
  {
   "cell_type": "code",
   "execution_count": null,
   "id": "fc873b3b-442c-4267-8f02-d5f0b0ba18a9",
   "metadata": {
    "vscode": {
     "languageId": "r"
    }
   },
   "outputs": [],
   "source": [
    "# Model comparison\n",
    "# Chosen model: m5 with standardized residuals (R2 = 0.9678, p-value = 0.08855)\n",
    "\n",
    "qqnorm(m5$residuals)\n",
    "qqline(m5$residuals, col = 'blue') # Tails are less distant"
   ]
  },
  {
   "cell_type": "code",
   "execution_count": null,
   "id": "b3826d9a-5775-48a5-81aa-7bb33a340666",
   "metadata": {
    "vscode": {
     "languageId": "r"
    }
   },
   "outputs": [],
   "source": [
    "# Plot standardized residuals (needs correction)\n",
    "res_std <- rstandard(m5) \n",
    "plot(m5$fitted.values, res_std, ylab = \"Standardized Residuals\", main = \"Standardized Residuals\")\n",
    "abline(h = c(-2, 2), lty = 2, col = 'orange')\n",
    "points(m5$fitted.values[watchout_ids_rstd], \n",
    "       res_std[watchout_ids_rstd], col = 'red', pch = 16)\n",
    "points(m5$fitted.values[watchout_ids_lev], \n",
    "       res_std[watchout_ids_lev], col = 'orange', pch = 16)\n",
    "legend('topright', col = c('red', 'orange'), \n",
    "       legend = c('Standardized Residuals', 'Leverages'), pch = rep(16, 2), bty = 'n')"
   ]
  },
  {
   "cell_type": "code",
   "execution_count": null,
   "id": "7fe8b7db-a537-41e8-90a0-71722cdb4397",
   "metadata": {
    "vscode": {
     "languageId": "r"
    }
   },
   "outputs": [],
   "source": [
    "# Stepwise covariate selection\n",
    "m5 = lm(class ~ . + sl*pl + sl*sw + sl*pw + pl*sw + pl*pw + sw*pw, iris.data[id_to_keep, ])\n",
    "summary(m5)\n",
    "shapiro.test(residuals(m5))"
   ]
  },
  {
   "cell_type": "code",
   "execution_count": null,
   "id": "3efbbf7b-3e8b-4f5e-b4e9-f7a2d0444676",
   "metadata": {
    "vscode": {
     "languageId": "r"
    }
   },
   "outputs": [],
   "source": [
    "step(m5, direction = \"both\", trace = TRUE)\n",
    "m7 = lm(formula = class ~ sl + sw + pl + pw + sl:sw + pl:pw + sw:pw, \n",
    "        data = iris.data[id_to_keep, ])\n",
    "summary(m7)\n",
    "shapiro.test(residuals(m7))"
   ]
  },
  {
   "cell_type": "code",
   "execution_count": null,
   "id": "5778ab63-5328-4607-9bde-0fc06c71a1f5",
   "metadata": {
    "vscode": {
     "languageId": "r"
    }
   },
   "outputs": [],
   "source": [
    "# After stepwise selection: R2 = 0.9685, p-value = 0.1171\n",
    "\n",
    "# Manually remove 'pw' (as it has the largest estimate)\n",
    "m8 = lm(formula = class ~ sl + sw + pl + sl:sw + pl:pw + sw:pw, \n",
    "        data = iris.data[id_to_keep, ])\n",
    "summary(m8)\n",
    "shapiro.test(residuals(m8))\n",
    "# Final model: R2 = 0.959, p-value = 0.4222 (indicating normality of residuals)."
   ]
  },
  {
   "cell_type": "code",
   "execution_count": null,
   "id": "a5499a9e-0a0d-4973-8f34-1e13819870d2",
   "metadata": {
    "vscode": {
     "languageId": "r"
    }
   },
   "outputs": [],
   "source": [
    "# Q-Q plot for residuals\n",
    "qqnorm(m8$residuals)\n",
    "qqline(m8$residuals, col = 'violet')\n",
    "\n",
    "# The model has reached a very good level (good fit)."
   ]
  }
 ],
 "metadata": {
  "kernelspec": {
   "display_name": "R",
   "language": "R",
   "name": "ir"
  },
  "language_info": {
   "codemirror_mode": "r",
   "file_extension": ".r",
   "mimetype": "text/x-r-source",
   "name": "R",
   "pygments_lexer": "r",
   "version": "4.4.2"
  }
 },
 "nbformat": 4,
 "nbformat_minor": 5
}
